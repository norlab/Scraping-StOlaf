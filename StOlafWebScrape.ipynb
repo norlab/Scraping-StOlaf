{
 "cells": [
  {
   "cell_type": "markdown",
   "metadata": {},
   "source": [
    "# Assignment 1 Web Scraping, due April 11 \n",
    "\n",
    "Name: Bree Norlander"
   ]
  },
  {
   "cell_type": "code",
   "execution_count": 313,
   "metadata": {
    "collapsed": true
   },
   "outputs": [],
   "source": [
    "# Import necessary packages\n",
    "%matplotlib inline\n",
    "import matplotlib.pyplot as plt #matplotlib\n",
    "import numpy as np #numpy\n",
    "import pandas as pd #pandas\n",
    "import requests #requests\n",
    "from bs4 import BeautifulSoup #BeautifulSoup\n",
    "import datetime #datetime\n",
    "import re #regularexpressions"
   ]
  },
  {
   "cell_type": "code",
   "execution_count": 314,
   "metadata": {
    "collapsed": false
   },
   "outputs": [],
   "source": [
    "# Date time code adapted from: http://www.saltycrane.com/blog/2008/06/how-to-get-current-date-and-time-in/\n",
    "\n",
    "# BeautifulSoup code and requests code adapted from https://www.youtube.com/watch?v=f2h41uEi0xU \n",
    "# and https://www.youtube.com/watch?v=3xQTJi2tqgk\n",
    "\n",
    "# Create a list of department names to scrape course data from (used in url)\n",
    "departmentslist = [\"mathematics\", \"physics\", \"psychology\", \"statistics\", \"dance\"]\n",
    "\n",
    "# Create empty lists to append data\n",
    "course_title = []\n",
    "course_descr = []\n",
    "scrape_date = []\n",
    "\n",
    "# set i = 0 for the while loop\n",
    "i = 0\n",
    "# Loop through the course catalogs for the five departments in departmentslist\n",
    "while i < len(departmentslist):\n",
    "    # The url is dependent upon the specific department\n",
    "    url = \"http://catalog.stolaf.edu/academic-programs/\" +departmentslist[i]+ \"/#coursestext\"\n",
    "    # Pull the webpage using requests\n",
    "    r = requests.get(url)\n",
    "    # Create a BeautifulSoup object to hold the content of the url\n",
    "    soup = BeautifulSoup(r.content, 'lxml')\n",
    "    # Create an object to hold the data found to match the html div class \"courseblock\"\n",
    "    course_data = soup.find_all(\"div\", {\"class\": \"courseblock\"})\n",
    "    # Loop through each item in course_data and add the index 1 item (text only) to the course_title list\n",
    "    for item in course_data:\n",
    "        course_title.append(item.contents[1].text)\n",
    "    # Loop through each item in course_data and add the index 2 item (text only) to the course_descr list\n",
    "    for item in course_data:\n",
    "        course_descr.append(item.contents[2].text)\n",
    "    # Store the current date in scrape_date\n",
    "    scrape_date = datetime.datetime.now().strftime(\"%Y-%m-%d\")\n",
    "    # Increase i by 1 and run through loop\n",
    "    i+=1"
   ]
  },
  {
   "cell_type": "code",
   "execution_count": 315,
   "metadata": {
    "collapsed": false
   },
   "outputs": [],
   "source": [
    "# Create list of column headings\n",
    "columns = ['college', 'scrape_date', 'full_title', 'course_descr']\n",
    "# Create an index value of the length of course_title\n",
    "index = np.arange(len(course_title)) \n",
    "# Create a Pandas dataframe with the columns and index specified above\n",
    "StOlafCourses = pd.DataFrame(columns=columns, index = index)\n",
    "# Populate the columns as follows:\n",
    "StOlafCourses['college'] = \"St. Olaf College\"\n",
    "StOlafCourses['scrape_date'] = scrape_date\n",
    "StOlafCourses['full_title'] = course_title\n",
    "StOlafCourses['course_descr'] = course_descr"
   ]
  },
  {
   "cell_type": "code",
   "execution_count": 316,
   "metadata": {
    "collapsed": false
   },
   "outputs": [
    {
     "data": {
      "text/html": [
       "<div>\n",
       "<table border=\"1\" class=\"dataframe\">\n",
       "  <thead>\n",
       "    <tr style=\"text-align: right;\">\n",
       "      <th></th>\n",
       "      <th>college</th>\n",
       "      <th>scrape_date</th>\n",
       "      <th>full_title</th>\n",
       "      <th>course_descr</th>\n",
       "    </tr>\n",
       "  </thead>\n",
       "  <tbody>\n",
       "    <tr>\n",
       "      <th>159</th>\n",
       "      <td>St. Olaf College</td>\n",
       "      <td>2016-04-10</td>\n",
       "      <td>DANCE 231: Fundamentals of Choreography and Im...</td>\n",
       "      <td>\\nA basic course in principles and methods for...</td>\n",
       "    </tr>\n",
       "    <tr>\n",
       "      <th>160</th>\n",
       "      <td>St. Olaf College</td>\n",
       "      <td>2016-04-10</td>\n",
       "      <td>DANCE 246: Dance in the United States</td>\n",
       "      <td>\\nStudents trace and integrate the African-Ame...</td>\n",
       "    </tr>\n",
       "    <tr>\n",
       "      <th>161</th>\n",
       "      <td>St. Olaf College</td>\n",
       "      <td>2016-04-10</td>\n",
       "      <td>DANCE 294: Internship</td>\n",
       "      <td>\\n</td>\n",
       "    </tr>\n",
       "    <tr>\n",
       "      <th>162</th>\n",
       "      <td>St. Olaf College</td>\n",
       "      <td>2016-04-10</td>\n",
       "      <td>DANCE 298: Independent Study</td>\n",
       "      <td>\\n</td>\n",
       "    </tr>\n",
       "    <tr>\n",
       "      <th>163</th>\n",
       "      <td>St. Olaf College</td>\n",
       "      <td>2016-04-10</td>\n",
       "      <td>DANCE 301: Advanced Body Movable (.50)</td>\n",
       "      <td>\\nThis course deepens and expands the body awa...</td>\n",
       "    </tr>\n",
       "    <tr>\n",
       "      <th>164</th>\n",
       "      <td>St. Olaf College</td>\n",
       "      <td>2016-04-10</td>\n",
       "      <td>DANCE 374: Advanced Choreography</td>\n",
       "      <td>\\nIn this advanced analysis of principles and ...</td>\n",
       "    </tr>\n",
       "    <tr>\n",
       "      <th>165</th>\n",
       "      <td>St. Olaf College</td>\n",
       "      <td>2016-04-10</td>\n",
       "      <td>DANCE 394: Academic Internship</td>\n",
       "      <td>\\n</td>\n",
       "    </tr>\n",
       "    <tr>\n",
       "      <th>166</th>\n",
       "      <td>St. Olaf College</td>\n",
       "      <td>2016-04-10</td>\n",
       "      <td>DANCE 396: Directed Undergraduate Research</td>\n",
       "      <td>\\nThis course provides a comprehensive researc...</td>\n",
       "    </tr>\n",
       "    <tr>\n",
       "      <th>167</th>\n",
       "      <td>St. Olaf College</td>\n",
       "      <td>2016-04-10</td>\n",
       "      <td>DANCE 398: Independent Research</td>\n",
       "      <td>\\n</td>\n",
       "    </tr>\n",
       "    <tr>\n",
       "      <th>168</th>\n",
       "      <td>St. Olaf College</td>\n",
       "      <td>2016-04-10</td>\n",
       "      <td>DANCE 399: Senior Dance Seminar</td>\n",
       "      <td>\\nIn this culminating dance major course, stud...</td>\n",
       "    </tr>\n",
       "  </tbody>\n",
       "</table>\n",
       "</div>"
      ],
      "text/plain": [
       "              college scrape_date  \\\n",
       "159  St. Olaf College  2016-04-10   \n",
       "160  St. Olaf College  2016-04-10   \n",
       "161  St. Olaf College  2016-04-10   \n",
       "162  St. Olaf College  2016-04-10   \n",
       "163  St. Olaf College  2016-04-10   \n",
       "164  St. Olaf College  2016-04-10   \n",
       "165  St. Olaf College  2016-04-10   \n",
       "166  St. Olaf College  2016-04-10   \n",
       "167  St. Olaf College  2016-04-10   \n",
       "168  St. Olaf College  2016-04-10   \n",
       "\n",
       "                                            full_title  \\\n",
       "159  DANCE 231: Fundamentals of Choreography and Im...   \n",
       "160              DANCE 246: Dance in the United States   \n",
       "161                              DANCE 294: Internship   \n",
       "162                       DANCE 298: Independent Study   \n",
       "163             DANCE 301: Advanced Body Movable (.50)   \n",
       "164                   DANCE 374: Advanced Choreography   \n",
       "165                     DANCE 394: Academic Internship   \n",
       "166         DANCE 396: Directed Undergraduate Research   \n",
       "167                    DANCE 398: Independent Research   \n",
       "168                    DANCE 399: Senior Dance Seminar   \n",
       "\n",
       "                                          course_descr  \n",
       "159  \\nA basic course in principles and methods for...  \n",
       "160  \\nStudents trace and integrate the African-Ame...  \n",
       "161                                                 \\n  \n",
       "162                                                 \\n  \n",
       "163  \\nThis course deepens and expands the body awa...  \n",
       "164  \\nIn this advanced analysis of principles and ...  \n",
       "165                                                 \\n  \n",
       "166  \\nThis course provides a comprehensive researc...  \n",
       "167                                                 \\n  \n",
       "168  \\nIn this culminating dance major course, stud...  "
      ]
     },
     "execution_count": 316,
     "metadata": {},
     "output_type": "execute_result"
    }
   ],
   "source": [
    "# Check the dataframe\n",
    "StOlafCourses.tail(10)"
   ]
  },
  {
   "cell_type": "code",
   "execution_count": 317,
   "metadata": {
    "collapsed": false
   },
   "outputs": [],
   "source": [
    "# Run a loop to convert individual cells from unicode to ascii (data type string)\n",
    "for row in range(len(StOlafCourses)):\n",
    "    # Convert from unicode to ascii (string data type)\n",
    "    StOlafCourses['full_title'][row] = StOlafCourses['full_title'][row].encode('ascii','backslashreplace')\n",
    "    StOlafCourses['course_descr'][row] = StOlafCourses['course_descr'][row].encode('ascii', 'backslashreplace')\n",
    "    # Substitute spaces for '\\\\xa0'\n",
    "    StOlafCourses['course_descr'][row] = re.sub(\"\\\\\\\\xa0\", \" \", StOlafCourses['course_descr'][row])\n",
    "    StOlafCourses['full_title'][row] = re.sub(\"\\\\\\\\xa0\", \" \", StOlafCourses['full_title'][row])"
   ]
  },
  {
   "cell_type": "code",
   "execution_count": 318,
   "metadata": {
    "collapsed": false
   },
   "outputs": [
    {
     "data": {
      "text/plain": [
       "'\\nThis course beautifully illustrates the nature of mathematics as a blend of technique, theory, abstraction, and applications. The important problem of solving systems of linear equations leads to the study of matrix algebra, determinants, vector spaces, bases and dimension, linear transformations, and eigenvalues. Offered each semester and periodically during Interim. Counts toward management studies concentration.\\nPrerequisite: MATH 119 or MATH 120.\\n'"
      ]
     },
     "execution_count": 318,
     "metadata": {},
     "output_type": "execute_result"
    }
   ],
   "source": [
    "# Check the results in one cell of the dataframe\n",
    "StOlafCourses['course_descr'][9]"
   ]
  },
  {
   "cell_type": "code",
   "execution_count": 319,
   "metadata": {
    "collapsed": false
   },
   "outputs": [
    {
     "data": {
      "text/html": [
       "<div>\n",
       "<table border=\"1\" class=\"dataframe\">\n",
       "  <thead>\n",
       "    <tr style=\"text-align: right;\">\n",
       "      <th></th>\n",
       "      <th>college</th>\n",
       "      <th>scrape_date</th>\n",
       "      <th>full_title</th>\n",
       "      <th>course_descr</th>\n",
       "      <th>department</th>\n",
       "      <th>course_number</th>\n",
       "      <th>course_title</th>\n",
       "    </tr>\n",
       "  </thead>\n",
       "  <tbody>\n",
       "    <tr>\n",
       "      <th>0</th>\n",
       "      <td>St. Olaf College</td>\n",
       "      <td>2016-04-10</td>\n",
       "      <td>MATH 109: Preparation for Calculus</td>\n",
       "      <td>\\nThis course is designed for students who nee...</td>\n",
       "      <td>MATH</td>\n",
       "      <td>109</td>\n",
       "      <td>Preparation for Calculus</td>\n",
       "    </tr>\n",
       "    <tr>\n",
       "      <th>1</th>\n",
       "      <td>St. Olaf College</td>\n",
       "      <td>2016-04-10</td>\n",
       "      <td>MATH 117: Gateways to Mathematics</td>\n",
       "      <td>\\nThis course explores the nature of mathemati...</td>\n",
       "      <td>MATH</td>\n",
       "      <td>117</td>\n",
       "      <td>Gateways to Mathematics</td>\n",
       "    </tr>\n",
       "    <tr>\n",
       "      <th>2</th>\n",
       "      <td>St. Olaf College</td>\n",
       "      <td>2016-04-10</td>\n",
       "      <td>MATH 119: Calculus I with Review</td>\n",
       "      <td>\\nThis course combines a full semester of diff...</td>\n",
       "      <td>MATH</td>\n",
       "      <td>119</td>\n",
       "      <td>Calculus I with Review</td>\n",
       "    </tr>\n",
       "    <tr>\n",
       "      <th>3</th>\n",
       "      <td>St. Olaf College</td>\n",
       "      <td>2016-04-10</td>\n",
       "      <td>MATH 120: Calculus I</td>\n",
       "      <td>\\nThis course introduces differential and inte...</td>\n",
       "      <td>MATH</td>\n",
       "      <td>120</td>\n",
       "      <td>Calculus I</td>\n",
       "    </tr>\n",
       "    <tr>\n",
       "      <th>4</th>\n",
       "      <td>St. Olaf College</td>\n",
       "      <td>2016-04-10</td>\n",
       "      <td>MATH 126: Calculus II</td>\n",
       "      <td>\\nThis course covers methods and applications ...</td>\n",
       "      <td>MATH</td>\n",
       "      <td>126</td>\n",
       "      <td>Calculus II</td>\n",
       "    </tr>\n",
       "  </tbody>\n",
       "</table>\n",
       "</div>"
      ],
      "text/plain": [
       "            college scrape_date                          full_title  \\\n",
       "0  St. Olaf College  2016-04-10  MATH 109: Preparation for Calculus   \n",
       "1  St. Olaf College  2016-04-10   MATH 117: Gateways to Mathematics   \n",
       "2  St. Olaf College  2016-04-10    MATH 119: Calculus I with Review   \n",
       "3  St. Olaf College  2016-04-10                MATH 120: Calculus I   \n",
       "4  St. Olaf College  2016-04-10               MATH 126: Calculus II   \n",
       "\n",
       "                                        course_descr department course_number  \\\n",
       "0  \\nThis course is designed for students who nee...       MATH           109   \n",
       "1  \\nThis course explores the nature of mathemati...       MATH           117   \n",
       "2  \\nThis course combines a full semester of diff...       MATH           119   \n",
       "3  \\nThis course introduces differential and inte...       MATH           120   \n",
       "4  \\nThis course covers methods and applications ...       MATH           126   \n",
       "\n",
       "                course_title  \n",
       "0   Preparation for Calculus  \n",
       "1    Gateways to Mathematics  \n",
       "2     Calculus I with Review  \n",
       "3                 Calculus I  \n",
       "4                Calculus II  "
      ]
     },
     "execution_count": 319,
     "metadata": {},
     "output_type": "execute_result"
    }
   ],
   "source": [
    "# Create empty lists to use in while loop\n",
    "title = []\n",
    "department = []\n",
    "course_number = []\n",
    "# Set i = 0 for while loop iterating\n",
    "i=0\n",
    "# Loop through each item in course_title\n",
    "while i < len(StOlafCourses):\n",
    "    # Append to the title list anything found after a colon\n",
    "    title.append(StOlafCourses.full_title[i].split(\":\")[1])\n",
    "    # Append to the department list anything found before the first space\n",
    "    department.append(StOlafCourses.full_title[i].split()[0])\n",
    "    # Object x is the item that follows the first space\n",
    "    x = StOlafCourses.full_title[i].split()[1]\n",
    "    # Substitute the colon in x with an empty string\n",
    "    x = re.sub(\":\", \"\", x)\n",
    "    # Append object x to course_number list\n",
    "    course_number.append(x)\n",
    "    # increase i by 1\n",
    "    i+=1\n",
    "# Add columns to StOlafCourses df that contain the data from the lists: department, course_number, & title\n",
    "StOlafCourses['department'] = department\n",
    "StOlafCourses['course_number'] = course_number\n",
    "StOlafCourses['course_title'] = title\n",
    "# Check results\n",
    "StOlafCourses.head(5)"
   ]
  },
  {
   "cell_type": "code",
   "execution_count": 320,
   "metadata": {
    "collapsed": false
   },
   "outputs": [],
   "source": [
    "# Create an empty list for each course's prereqs\n",
    "cleanprereq = []\n",
    "# Loop through all rows of the dataframe\n",
    "for i in range(len(StOlafCourses)):\n",
    "    # Search in course_desc column for strings that are either 4 or 5 capital letters followed by a space and \n",
    "    # 3 digits\n",
    "    matches = re.findall('[A-Z]{4,5} [0-9][0-9][0-9]', StOlafCourses.course_descr[i])\n",
    "    # If there are no matches, append an empty string to cleanprereq\n",
    "    if len(matches) == 0:\n",
    "        cleanprereq.append(\"\")\n",
    "    # If there are matches, create an empty list prereqs and set x=0\n",
    "    else:\n",
    "        prereqs=[]\n",
    "        x=0\n",
    "        # Loop through the matche/s and for each match except the final match, \n",
    "        # add a semicolon after the matched phrase and append to prereqs\n",
    "        while x < len(matches)-1:\n",
    "            prereqs.append(matches[x]+';')\n",
    "            x+=1\n",
    "        # Append the final matched phrase to prereqs    \n",
    "        prereqs.append(matches[x])\n",
    "        # Change the matches list into a space separated string\n",
    "        prereqs = \" \".join(str(x) for x in prereqs)\n",
    "        # Append the new string to cleanprereq\n",
    "        cleanprereq.append(prereqs)\n",
    "        \n",
    "# Add column to StOlafCourses dataframe with new prereq lists data\n",
    "StOlafCourses['prereq'] = cleanprereq"
   ]
  },
  {
   "cell_type": "code",
   "execution_count": 321,
   "metadata": {
    "collapsed": false
   },
   "outputs": [
    {
     "data": {
      "text/html": [
       "<div>\n",
       "<table border=\"1\" class=\"dataframe\">\n",
       "  <thead>\n",
       "    <tr style=\"text-align: right;\">\n",
       "      <th></th>\n",
       "      <th>college</th>\n",
       "      <th>scrape_date</th>\n",
       "      <th>department</th>\n",
       "      <th>course_number</th>\n",
       "      <th>course_title</th>\n",
       "      <th>prereq</th>\n",
       "    </tr>\n",
       "  </thead>\n",
       "  <tbody>\n",
       "    <tr>\n",
       "      <th>0</th>\n",
       "      <td>St. Olaf College</td>\n",
       "      <td>2016-04-10</td>\n",
       "      <td>MATH</td>\n",
       "      <td>109</td>\n",
       "      <td>Preparation for Calculus</td>\n",
       "      <td></td>\n",
       "    </tr>\n",
       "    <tr>\n",
       "      <th>1</th>\n",
       "      <td>St. Olaf College</td>\n",
       "      <td>2016-04-10</td>\n",
       "      <td>MATH</td>\n",
       "      <td>117</td>\n",
       "      <td>Gateways to Mathematics</td>\n",
       "      <td></td>\n",
       "    </tr>\n",
       "    <tr>\n",
       "      <th>2</th>\n",
       "      <td>St. Olaf College</td>\n",
       "      <td>2016-04-10</td>\n",
       "      <td>MATH</td>\n",
       "      <td>119</td>\n",
       "      <td>Calculus I with Review</td>\n",
       "      <td></td>\n",
       "    </tr>\n",
       "    <tr>\n",
       "      <th>3</th>\n",
       "      <td>St. Olaf College</td>\n",
       "      <td>2016-04-10</td>\n",
       "      <td>MATH</td>\n",
       "      <td>120</td>\n",
       "      <td>Calculus I</td>\n",
       "      <td></td>\n",
       "    </tr>\n",
       "    <tr>\n",
       "      <th>4</th>\n",
       "      <td>St. Olaf College</td>\n",
       "      <td>2016-04-10</td>\n",
       "      <td>MATH</td>\n",
       "      <td>126</td>\n",
       "      <td>Calculus II</td>\n",
       "      <td>MATH 126; MATH 128; MATH 119; MATH 120</td>\n",
       "    </tr>\n",
       "    <tr>\n",
       "      <th>5</th>\n",
       "      <td>St. Olaf College</td>\n",
       "      <td>2016-04-10</td>\n",
       "      <td>MATH</td>\n",
       "      <td>128</td>\n",
       "      <td>Honors Calculus II</td>\n",
       "      <td>MATH 126; MATH 126; MATH 128</td>\n",
       "    </tr>\n",
       "    <tr>\n",
       "      <th>6</th>\n",
       "      <td>St. Olaf College</td>\n",
       "      <td>2016-04-10</td>\n",
       "      <td>MATH</td>\n",
       "      <td>200</td>\n",
       "      <td>Topics in Mathematics (0.25)</td>\n",
       "      <td></td>\n",
       "    </tr>\n",
       "    <tr>\n",
       "      <th>7</th>\n",
       "      <td>St. Olaf College</td>\n",
       "      <td>2016-04-10</td>\n",
       "      <td>MATH</td>\n",
       "      <td>201</td>\n",
       "      <td>Topics in Mathematics (0.50)</td>\n",
       "      <td></td>\n",
       "    </tr>\n",
       "    <tr>\n",
       "      <th>8</th>\n",
       "      <td>St. Olaf College</td>\n",
       "      <td>2016-04-10</td>\n",
       "      <td>MATH</td>\n",
       "      <td>218</td>\n",
       "      <td>Geometry and Decorative Art in Morocco (abroad)</td>\n",
       "      <td></td>\n",
       "    </tr>\n",
       "    <tr>\n",
       "      <th>9</th>\n",
       "      <td>St. Olaf College</td>\n",
       "      <td>2016-04-10</td>\n",
       "      <td>MATH</td>\n",
       "      <td>220</td>\n",
       "      <td>Elementary Linear Algebra</td>\n",
       "      <td>MATH 119; MATH 120</td>\n",
       "    </tr>\n",
       "  </tbody>\n",
       "</table>\n",
       "</div>"
      ],
      "text/plain": [
       "            college scrape_date department course_number  \\\n",
       "0  St. Olaf College  2016-04-10       MATH           109   \n",
       "1  St. Olaf College  2016-04-10       MATH           117   \n",
       "2  St. Olaf College  2016-04-10       MATH           119   \n",
       "3  St. Olaf College  2016-04-10       MATH           120   \n",
       "4  St. Olaf College  2016-04-10       MATH           126   \n",
       "5  St. Olaf College  2016-04-10       MATH           128   \n",
       "6  St. Olaf College  2016-04-10       MATH           200   \n",
       "7  St. Olaf College  2016-04-10       MATH           201   \n",
       "8  St. Olaf College  2016-04-10       MATH           218   \n",
       "9  St. Olaf College  2016-04-10       MATH           220   \n",
       "\n",
       "                                       course_title  \\\n",
       "0                          Preparation for Calculus   \n",
       "1                           Gateways to Mathematics   \n",
       "2                            Calculus I with Review   \n",
       "3                                        Calculus I   \n",
       "4                                       Calculus II   \n",
       "5                                Honors Calculus II   \n",
       "6                      Topics in Mathematics (0.25)   \n",
       "7                      Topics in Mathematics (0.50)   \n",
       "8   Geometry and Decorative Art in Morocco (abroad)   \n",
       "9                         Elementary Linear Algebra   \n",
       "\n",
       "                                   prereq  \n",
       "0                                          \n",
       "1                                          \n",
       "2                                          \n",
       "3                                          \n",
       "4  MATH 126; MATH 128; MATH 119; MATH 120  \n",
       "5            MATH 126; MATH 126; MATH 128  \n",
       "6                                          \n",
       "7                                          \n",
       "8                                          \n",
       "9                      MATH 119; MATH 120  "
      ]
     },
     "execution_count": 321,
     "metadata": {},
     "output_type": "execute_result"
    }
   ],
   "source": [
    "# Delete the columns 'full_title', and 'course_descr'\n",
    "del StOlafCourses['full_title']\n",
    "del StOlafCourses['course_descr']\n",
    "# Check results\n",
    "StOlafCourses.head(10)"
   ]
  },
  {
   "cell_type": "code",
   "execution_count": 322,
   "metadata": {
    "collapsed": false
   },
   "outputs": [],
   "source": [
    "# Save dataframe to csv called staolafcourses.csv\n",
    "StOlafCourses.to_csv('stolafcourses.csv', index=False)"
   ]
  },
  {
   "cell_type": "code",
   "execution_count": 328,
   "metadata": {
    "collapsed": false
   },
   "outputs": [
    {
     "data": {
      "text/plain": [
       "0.65680473372781067"
      ]
     },
     "execution_count": 328,
     "metadata": {},
     "output_type": "execute_result"
    }
   ],
   "source": [
    "# Replace empty strings with nan\n",
    "StOlafCourses['prereq'].replace('', np.nan, inplace=True)\n",
    "# Calculate percentage of the 169 observations that have prerequisites:\n",
    "1.0-(StOlafCourses['prereq'].isnull().sum())/(1.0*len(StOlafCourses))"
   ]
  },
  {
   "cell_type": "markdown",
   "metadata": {},
   "source": [
    "Over 65% of the 169 courses have prerequisites, meeting the requirement of at least 50 courses with prerequisites."
   ]
  },
  {
   "cell_type": "code",
   "execution_count": 324,
   "metadata": {
    "collapsed": false
   },
   "outputs": [
    {
     "data": {
      "text/plain": [
       "array(['MATH', 'CSCI', 'MSCS', 'STAT', 'PHYS', 'PSYCH', 'ECON', 'SOAN',\n",
       "       'DANCE'], dtype=object)"
      ]
     },
     "execution_count": 324,
     "metadata": {},
     "output_type": "execute_result"
    }
   ],
   "source": [
    "# Check to see how many unique departments are in the dataframe\n",
    "StOlafCourses.department.unique()"
   ]
  },
  {
   "cell_type": "code",
   "execution_count": 330,
   "metadata": {
    "collapsed": false
   },
   "outputs": [
    {
     "data": {
      "text/plain": [
       "department\n",
       "CSCI      3\n",
       "DANCE    39\n",
       "ECON      2\n",
       "MATH     39\n",
       "MSCS      2\n",
       "PHYS     27\n",
       "PSYCH    37\n",
       "SOAN      1\n",
       "STAT     19\n",
       "dtype: int64"
      ]
     },
     "execution_count": 330,
     "metadata": {},
     "output_type": "execute_result"
    }
   ],
   "source": [
    "# Check how many courses are included in each department\n",
    "deptcount = StOlafCourses.groupby('department').size()\n",
    "deptcount"
   ]
  },
  {
   "cell_type": "code",
   "execution_count": 331,
   "metadata": {
    "collapsed": false
   },
   "outputs": [
    {
     "data": {
      "text/plain": [
       "department\n",
       "CSCI      3\n",
       "DANCE    21\n",
       "ECON      2\n",
       "MATH     22\n",
       "PHYS     16\n",
       "PSYCH    33\n",
       "SOAN      1\n",
       "STAT     13\n",
       "dtype: int64"
      ]
     },
     "execution_count": 331,
     "metadata": {},
     "output_type": "execute_result"
    }
   ],
   "source": [
    "# Check how many courses in each department have prereqs\n",
    "deptprereq = StOlafCourses[StOlafCourses['prereq'].notnull()].groupby('department').size()\n",
    "deptprereq"
   ]
  },
  {
   "cell_type": "code",
   "execution_count": 332,
   "metadata": {
    "collapsed": false
   },
   "outputs": [
    {
     "data": {
      "text/html": [
       "<div>\n",
       "<table border=\"1\" class=\"dataframe\">\n",
       "  <thead>\n",
       "    <tr style=\"text-align: right;\">\n",
       "      <th></th>\n",
       "      <th>0</th>\n",
       "    </tr>\n",
       "    <tr>\n",
       "      <th>department</th>\n",
       "      <th></th>\n",
       "    </tr>\n",
       "  </thead>\n",
       "  <tbody>\n",
       "    <tr>\n",
       "      <th>DANCE</th>\n",
       "      <td>53.846154</td>\n",
       "    </tr>\n",
       "    <tr>\n",
       "      <th>MATH</th>\n",
       "      <td>56.410256</td>\n",
       "    </tr>\n",
       "    <tr>\n",
       "      <th>PHYS</th>\n",
       "      <td>59.259259</td>\n",
       "    </tr>\n",
       "    <tr>\n",
       "      <th>PSYCH</th>\n",
       "      <td>89.189189</td>\n",
       "    </tr>\n",
       "    <tr>\n",
       "      <th>STAT</th>\n",
       "      <td>68.421053</td>\n",
       "    </tr>\n",
       "  </tbody>\n",
       "</table>\n",
       "</div>"
      ],
      "text/plain": [
       "                    0\n",
       "department           \n",
       "DANCE       53.846154\n",
       "MATH        56.410256\n",
       "PHYS        59.259259\n",
       "PSYCH       89.189189\n",
       "STAT        68.421053"
      ]
     },
     "execution_count": 332,
     "metadata": {},
     "output_type": "execute_result"
    }
   ],
   "source": [
    "pctprereq = 100 * deptprereq/deptcount\n",
    "pctprereq_df = pd.DataFrame(pctprereq)\n",
    "pctprereq_df = pctprereq_df.loc[['DANCE', 'MATH', 'PHYS', 'PSYCH', 'STAT']]\n",
    "pctprereq_df"
   ]
  },
  {
   "cell_type": "code",
   "execution_count": 333,
   "metadata": {
    "collapsed": false
   },
   "outputs": [
    {
     "data": {
      "image/png": "[encoded data removed]",
      "text/plain": [
       "<matplotlib.figure.Figure at 0x1113c63d0>"
      ]
     },
     "metadata": {},
     "output_type": "display_data"
    }
   ],
   "source": [
    "# Take all rows of dataframe where prereq field is not null, group by department, and plot\n",
    "pctprereq_df.plot(kind='bar', figsize=(12,8), legend=None,\n",
    "                  color=['darkslategray', 'darkmagenta', 'mediumpurple', 'mediumslateblue', 'steelblue'])\n",
    "# Set Y-axis label\n",
    "plt.ylabel(\"Percent of Courses with Prereqs Within Department\", fontsize=12)\n",
    "# Set X-axis label\n",
    "plt.xlabel(\"Selected Departments\", fontsize=12)\n",
    "# Set y-axis range\n",
    "plt.ylim(0, 100)\n",
    "# Provide a plot title\n",
    "plt.title(\"Count of Courses that Require Prerequisites from 5 Departments \\n Course Data Scraped from \" \\\n",
    "          \"Selected Departments at St. Olaf College\", fontsize=14, fontweight='bold')\n",
    "# Save plot as jpg\n",
    "plt.savefig('stolafvis.jpg')"
   ]
  }
 ],
 "metadata": {
  "kernelspec": {
   "display_name": "Python 2",
   "language": "python",
   "name": "python2"
  },
  "language_info": {
   "codemirror_mode": {
    "name": "ipython",
    "version": 2
   },
   "file_extension": ".py",
   "mimetype": "text/x-python",
   "name": "python",
   "nbconvert_exporter": "python",
   "pygments_lexer": "ipython2",
   "version": "2.7.11"
  }
 },
 "nbformat": 4,
 "nbformat_minor": 0
}
